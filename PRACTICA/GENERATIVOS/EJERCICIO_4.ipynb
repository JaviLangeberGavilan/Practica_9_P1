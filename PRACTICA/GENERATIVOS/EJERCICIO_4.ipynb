{
 "cells": [
  {
   "cell_type": "code",
   "execution_count": 9,
   "metadata": {},
   "outputs": [],
   "source": [
    "import numpy as np\n",
    "import pandas as pd\n",
    "import matplotlib.pyplot as plt\n",
    "import keras as kt\n",
    "import tensorflow as tf\n",
    "from keras.datasets import fashion_mnist"
   ]
  },
  {
   "cell_type": "code",
   "execution_count": 10,
   "metadata": {},
   "outputs": [],
   "source": [
    "from keras.models import Sequential\n",
    "from keras.layers import Dense, Conv2D, Flatten, BatchNormalization, Dropout, MaxPooling2D, LSTM, GRU, Convolution1D, MaxPooling1D, Conv1D\n",
    "from keras import regularizers\n",
    "from numpy.lib.stride_tricks import sliding_window_view\n",
    "import matplotlib.pyplot as plt\n",
    "import pandas as pd\n",
    "import numpy as np\n",
    "from tensorflow import keras\n",
    "from keras.callbacks import EarlyStopping\n",
    "from tensorflow import keras\n",
    "from keras.callbacks import ReduceLROnPlateau\n",
    "import tensorflow as tf"
   ]
  },
  {
   "cell_type": "code",
   "execution_count": 11,
   "metadata": {},
   "outputs": [],
   "source": [
    "(x_train_or, y_train), (x_test_or, y_test) = fashion_mnist.load_data()"
   ]
  },
  {
   "cell_type": "code",
   "execution_count": 12,
   "metadata": {},
   "outputs": [],
   "source": [
    "x_train = (x_train_or/255. - 0.5) * 2.\n",
    "x_test = (x_test_or/255. - 0.5) * 2."
   ]
  },
  {
   "cell_type": "code",
   "execution_count": 13,
   "metadata": {},
   "outputs": [],
   "source": [
    "av_x_train = x_train[0:101]\n",
    "av_y_train = y_train[0:101]"
   ]
  },
  {
   "cell_type": "code",
   "execution_count": 22,
   "metadata": {},
   "outputs": [
    {
     "name": "stdout",
     "output_type": "stream",
     "text": [
      "WARNING:tensorflow:Layer gru_4 will not use cuDNN kernels since it doesn't meet the criteria. It will use a generic GPU kernel as fallback when running on GPU.\n",
      "WARNING:tensorflow:Layer gru_5 will not use cuDNN kernels since it doesn't meet the criteria. It will use a generic GPU kernel as fallback when running on GPU.\n",
      "WARNING:tensorflow:Layer lstm_2 will not use cuDNN kernels since it doesn't meet the criteria. It will use a generic GPU kernel as fallback when running on GPU.\n",
      "Model: \"sequential_3\"\n",
      "_________________________________________________________________\n",
      " Layer (type)                Output Shape              Param #   \n",
      "=================================================================\n",
      " gru_4 (GRU)                 (None, 28, 32)            5952      \n",
      "                                                                 \n",
      " max_pooling1d_4 (MaxPooling  (None, 14, 32)           0         \n",
      " 1D)                                                             \n",
      "                                                                 \n",
      " gru_5 (GRU)                 (None, 14, 64)            18816     \n",
      "                                                                 \n",
      " lstm_2 (LSTM)               (None, 14, 128)           98816     \n",
      "                                                                 \n",
      " conv1d_4 (Conv1D)           (None, 14, 256)           98560     \n",
      "                                                                 \n",
      " max_pooling1d_5 (MaxPooling  (None, 7, 256)           0         \n",
      " 1D)                                                             \n",
      "                                                                 \n",
      " conv1d_5 (Conv1D)           (None, 7, 512)            393728    \n",
      "                                                                 \n",
      " flatten_2 (Flatten)         (None, 3584)              0         \n",
      "                                                                 \n",
      " dense_4 (Dense)             (None, 1024)              3671040   \n",
      "                                                                 \n",
      " dropout_2 (Dropout)         (None, 1024)              0         \n",
      "                                                                 \n",
      " dense_5 (Dense)             (None, 1)                 1025      \n",
      "                                                                 \n",
      "=================================================================\n",
      "Total params: 4,287,937\n",
      "Trainable params: 4,287,937\n",
      "Non-trainable params: 0\n",
      "_________________________________________________________________\n"
     ]
    }
   ],
   "source": [
    "# Creación del modelo\n",
    "model = Sequential()\n",
    "\n",
    "model.add(GRU(32, input_shape=x_train.shape[1:], return_sequences = True, activation=\"relu\"))\n",
    "model.add(MaxPooling1D(pool_size=2, strides=2))\n",
    "\n",
    "model.add(GRU(64, return_sequences = True, activation=\"relu\"))\n",
    "\n",
    "model.add(LSTM(128, return_sequences = True, activation=\"relu\"))\n",
    "\n",
    "model.add(Conv1D(256, kernel_size = (3,), activation=\"relu\", padding='same', kernel_regularizer=regularizers.L1L2(0.015, 0.4)))\n",
    "model.add(MaxPooling1D(pool_size=2, strides=2))\n",
    "\n",
    "model.add(Conv1D(512, kernel_size = (3,), activation=\"relu\", padding='same', kernel_regularizer=regularizers.L1L2(0.015, 0.4)))\n",
    "\n",
    "model.add(Flatten())\n",
    "\n",
    "model.add(Dense(units=1024, activation=\"relu\"))\n",
    "model.add(Dropout(0.3))\n",
    "\n",
    "\n",
    "model.add(Dense(1))\n",
    "\n",
    "# Parámetros del compilador\n",
    "opt = keras.optimizers.Adam(learning_rate=0.001)\n",
    "model.compile(loss='sparse_categorical_crossentropy', optimizer=opt)\n",
    "\n",
    "# mostramos el modelo\n",
    "model.summary()"
   ]
  },
  {
   "cell_type": "code",
   "execution_count": 24,
   "metadata": {},
   "outputs": [
    {
     "name": "stdout",
     "output_type": "stream",
     "text": [
      "Epoch 1/500\n",
      "1/1 [==============================] - 0s 473ms/step - loss: nan - val_loss: nan - lr: 1.0000e-05\n",
      "Epoch 2/500\n",
      "1/1 [==============================] - 0s 336ms/step - loss: nan - val_loss: nan - lr: 1.0000e-05\n",
      "Epoch 3/500\n",
      "1/1 [==============================] - 0s 366ms/step - loss: nan - val_loss: nan - lr: 1.0000e-05\n",
      "Epoch 4/500\n",
      "1/1 [==============================] - 0s 321ms/step - loss: nan - val_loss: nan - lr: 1.0000e-05\n",
      "Epoch 5/500\n",
      "1/1 [==============================] - 0s 316ms/step - loss: nan - val_loss: nan - lr: 1.0000e-05\n",
      "Epoch 6/500\n",
      "1/1 [==============================] - 0s 314ms/step - loss: nan - val_loss: nan - lr: 1.0000e-05\n",
      "Epoch 7/500\n",
      "1/1 [==============================] - 0s 319ms/step - loss: nan - val_loss: nan - lr: 1.0000e-05\n",
      "Epoch 8/500\n",
      "1/1 [==============================] - 0s 337ms/step - loss: nan - val_loss: nan - lr: 1.0000e-05\n",
      "Epoch 9/500\n",
      "1/1 [==============================] - 0s 308ms/step - loss: nan - val_loss: nan - lr: 1.0000e-05\n",
      "Epoch 10/500\n",
      "1/1 [==============================] - 0s 311ms/step - loss: nan - val_loss: nan - lr: 1.0000e-05\n",
      "Epoch 11/500\n",
      "1/1 [==============================] - 0s 326ms/step - loss: nan - val_loss: nan - lr: 1.0000e-05\n",
      "Epoch 12/500\n",
      "1/1 [==============================] - 0s 323ms/step - loss: nan - val_loss: nan - lr: 1.0000e-05\n",
      "Epoch 13/500\n",
      "1/1 [==============================] - 0s 308ms/step - loss: nan - val_loss: nan - lr: 1.0000e-05\n",
      "Epoch 14/500\n",
      "1/1 [==============================] - 0s 296ms/step - loss: nan - val_loss: nan - lr: 1.0000e-05\n",
      "Epoch 15/500\n",
      "1/1 [==============================] - 0s 339ms/step - loss: nan - val_loss: nan - lr: 1.0000e-05\n",
      "Epoch 16/500\n",
      "1/1 [==============================] - 0s 320ms/step - loss: nan - val_loss: nan - lr: 1.0000e-05\n",
      "Epoch 17/500\n",
      "1/1 [==============================] - 0s 325ms/step - loss: nan - val_loss: nan - lr: 1.0000e-05\n",
      "Epoch 18/500\n",
      "1/1 [==============================] - 0s 324ms/step - loss: nan - val_loss: nan - lr: 1.0000e-05\n",
      "Epoch 19/500\n",
      "1/1 [==============================] - 0s 348ms/step - loss: nan - val_loss: nan - lr: 1.0000e-05\n",
      "Epoch 20/500\n",
      "1/1 [==============================] - 0s 316ms/step - loss: nan - val_loss: nan - lr: 1.0000e-05\n",
      "Epoch 21/500\n",
      "1/1 [==============================] - 0s 306ms/step - loss: nan - val_loss: nan - lr: 1.0000e-05\n",
      "Epoch 22/500\n"
     ]
    },
    {
     "ename": "KeyboardInterrupt",
     "evalue": "",
     "output_type": "error",
     "traceback": [
      "\u001b[1;31m---------------------------------------------------------------------------\u001b[0m",
      "\u001b[1;31mKeyboardInterrupt\u001b[0m                         Traceback (most recent call last)",
      "Cell \u001b[1;32mIn [24], line 12\u001b[0m\n\u001b[0;32m      8\u001b[0m reduce_lr \u001b[39m=\u001b[39m ReduceLROnPlateau(monitor\u001b[39m=\u001b[39m\u001b[39m'\u001b[39m\u001b[39mval_loss\u001b[39m\u001b[39m'\u001b[39m, factor\u001b[39m=\u001b[39m\u001b[39m0.5\u001b[39m,\n\u001b[0;32m      9\u001b[0m                               patience\u001b[39m=\u001b[39m\u001b[39m4\u001b[39m, min_lr\u001b[39m=\u001b[39m\u001b[39m0.00001\u001b[39m)\n\u001b[0;32m     11\u001b[0m \u001b[39m# Entrenamos el modelo\u001b[39;00m\n\u001b[1;32m---> 12\u001b[0m history \u001b[39m=\u001b[39m model\u001b[39m.\u001b[39;49mfit(av_x_train, av_y_train, batch_size\u001b[39m=\u001b[39;49mbatch_size, epochs\u001b[39m=\u001b[39;49mepochs, verbose\u001b[39m=\u001b[39;49m\u001b[39m1\u001b[39;49m, validation_split \u001b[39m=\u001b[39;49m \u001b[39m0.1\u001b[39;49m, callbacks\u001b[39m=\u001b[39;49m[early_stop, reduce_lr])\n",
      "File \u001b[1;32mc:\\Users\\Usuario\\AppData\\Local\\Programs\\Python\\Python310\\lib\\site-packages\\keras\\utils\\traceback_utils.py:65\u001b[0m, in \u001b[0;36mfilter_traceback.<locals>.error_handler\u001b[1;34m(*args, **kwargs)\u001b[0m\n\u001b[0;32m     63\u001b[0m filtered_tb \u001b[39m=\u001b[39m \u001b[39mNone\u001b[39;00m\n\u001b[0;32m     64\u001b[0m \u001b[39mtry\u001b[39;00m:\n\u001b[1;32m---> 65\u001b[0m     \u001b[39mreturn\u001b[39;00m fn(\u001b[39m*\u001b[39margs, \u001b[39m*\u001b[39m\u001b[39m*\u001b[39mkwargs)\n\u001b[0;32m     66\u001b[0m \u001b[39mexcept\u001b[39;00m \u001b[39mException\u001b[39;00m \u001b[39mas\u001b[39;00m e:\n\u001b[0;32m     67\u001b[0m     filtered_tb \u001b[39m=\u001b[39m _process_traceback_frames(e\u001b[39m.\u001b[39m__traceback__)\n",
      "File \u001b[1;32mc:\\Users\\Usuario\\AppData\\Local\\Programs\\Python\\Python310\\lib\\site-packages\\keras\\engine\\training.py:1564\u001b[0m, in \u001b[0;36mModel.fit\u001b[1;34m(self, x, y, batch_size, epochs, verbose, callbacks, validation_split, validation_data, shuffle, class_weight, sample_weight, initial_epoch, steps_per_epoch, validation_steps, validation_batch_size, validation_freq, max_queue_size, workers, use_multiprocessing)\u001b[0m\n\u001b[0;32m   1556\u001b[0m \u001b[39mwith\u001b[39;00m tf\u001b[39m.\u001b[39mprofiler\u001b[39m.\u001b[39mexperimental\u001b[39m.\u001b[39mTrace(\n\u001b[0;32m   1557\u001b[0m     \u001b[39m\"\u001b[39m\u001b[39mtrain\u001b[39m\u001b[39m\"\u001b[39m,\n\u001b[0;32m   1558\u001b[0m     epoch_num\u001b[39m=\u001b[39mepoch,\n\u001b[1;32m   (...)\u001b[0m\n\u001b[0;32m   1561\u001b[0m     _r\u001b[39m=\u001b[39m\u001b[39m1\u001b[39m,\n\u001b[0;32m   1562\u001b[0m ):\n\u001b[0;32m   1563\u001b[0m     callbacks\u001b[39m.\u001b[39mon_train_batch_begin(step)\n\u001b[1;32m-> 1564\u001b[0m     tmp_logs \u001b[39m=\u001b[39m \u001b[39mself\u001b[39;49m\u001b[39m.\u001b[39;49mtrain_function(iterator)\n\u001b[0;32m   1565\u001b[0m     \u001b[39mif\u001b[39;00m data_handler\u001b[39m.\u001b[39mshould_sync:\n\u001b[0;32m   1566\u001b[0m         context\u001b[39m.\u001b[39masync_wait()\n",
      "File \u001b[1;32mc:\\Users\\Usuario\\AppData\\Local\\Programs\\Python\\Python310\\lib\\site-packages\\tensorflow\\python\\util\\traceback_utils.py:150\u001b[0m, in \u001b[0;36mfilter_traceback.<locals>.error_handler\u001b[1;34m(*args, **kwargs)\u001b[0m\n\u001b[0;32m    148\u001b[0m filtered_tb \u001b[39m=\u001b[39m \u001b[39mNone\u001b[39;00m\n\u001b[0;32m    149\u001b[0m \u001b[39mtry\u001b[39;00m:\n\u001b[1;32m--> 150\u001b[0m   \u001b[39mreturn\u001b[39;00m fn(\u001b[39m*\u001b[39margs, \u001b[39m*\u001b[39m\u001b[39m*\u001b[39mkwargs)\n\u001b[0;32m    151\u001b[0m \u001b[39mexcept\u001b[39;00m \u001b[39mException\u001b[39;00m \u001b[39mas\u001b[39;00m e:\n\u001b[0;32m    152\u001b[0m   filtered_tb \u001b[39m=\u001b[39m _process_traceback_frames(e\u001b[39m.\u001b[39m__traceback__)\n",
      "File \u001b[1;32mc:\\Users\\Usuario\\AppData\\Local\\Programs\\Python\\Python310\\lib\\site-packages\\tensorflow\\python\\eager\\def_function.py:915\u001b[0m, in \u001b[0;36mFunction.__call__\u001b[1;34m(self, *args, **kwds)\u001b[0m\n\u001b[0;32m    912\u001b[0m compiler \u001b[39m=\u001b[39m \u001b[39m\"\u001b[39m\u001b[39mxla\u001b[39m\u001b[39m\"\u001b[39m \u001b[39mif\u001b[39;00m \u001b[39mself\u001b[39m\u001b[39m.\u001b[39m_jit_compile \u001b[39melse\u001b[39;00m \u001b[39m\"\u001b[39m\u001b[39mnonXla\u001b[39m\u001b[39m\"\u001b[39m\n\u001b[0;32m    914\u001b[0m \u001b[39mwith\u001b[39;00m OptionalXlaContext(\u001b[39mself\u001b[39m\u001b[39m.\u001b[39m_jit_compile):\n\u001b[1;32m--> 915\u001b[0m   result \u001b[39m=\u001b[39m \u001b[39mself\u001b[39m\u001b[39m.\u001b[39m_call(\u001b[39m*\u001b[39margs, \u001b[39m*\u001b[39m\u001b[39m*\u001b[39mkwds)\n\u001b[0;32m    917\u001b[0m new_tracing_count \u001b[39m=\u001b[39m \u001b[39mself\u001b[39m\u001b[39m.\u001b[39mexperimental_get_tracing_count()\n\u001b[0;32m    918\u001b[0m without_tracing \u001b[39m=\u001b[39m (tracing_count \u001b[39m==\u001b[39m new_tracing_count)\n",
      "File \u001b[1;32mc:\\Users\\Usuario\\AppData\\Local\\Programs\\Python\\Python310\\lib\\site-packages\\tensorflow\\python\\eager\\def_function.py:947\u001b[0m, in \u001b[0;36mFunction._call\u001b[1;34m(self, *args, **kwds)\u001b[0m\n\u001b[0;32m    944\u001b[0m   \u001b[39mself\u001b[39m\u001b[39m.\u001b[39m_lock\u001b[39m.\u001b[39mrelease()\n\u001b[0;32m    945\u001b[0m   \u001b[39m# In this case we have created variables on the first call, so we run the\u001b[39;00m\n\u001b[0;32m    946\u001b[0m   \u001b[39m# defunned version which is guaranteed to never create variables.\u001b[39;00m\n\u001b[1;32m--> 947\u001b[0m   \u001b[39mreturn\u001b[39;00m \u001b[39mself\u001b[39m\u001b[39m.\u001b[39m_stateless_fn(\u001b[39m*\u001b[39margs, \u001b[39m*\u001b[39m\u001b[39m*\u001b[39mkwds)  \u001b[39m# pylint: disable=not-callable\u001b[39;00m\n\u001b[0;32m    948\u001b[0m \u001b[39melif\u001b[39;00m \u001b[39mself\u001b[39m\u001b[39m.\u001b[39m_stateful_fn \u001b[39mis\u001b[39;00m \u001b[39mnot\u001b[39;00m \u001b[39mNone\u001b[39;00m:\n\u001b[0;32m    949\u001b[0m   \u001b[39m# Release the lock early so that multiple threads can perform the call\u001b[39;00m\n\u001b[0;32m    950\u001b[0m   \u001b[39m# in parallel.\u001b[39;00m\n\u001b[0;32m    951\u001b[0m   \u001b[39mself\u001b[39m\u001b[39m.\u001b[39m_lock\u001b[39m.\u001b[39mrelease()\n",
      "File \u001b[1;32mc:\\Users\\Usuario\\AppData\\Local\\Programs\\Python\\Python310\\lib\\site-packages\\tensorflow\\python\\eager\\function.py:2496\u001b[0m, in \u001b[0;36mFunction.__call__\u001b[1;34m(self, *args, **kwargs)\u001b[0m\n\u001b[0;32m   2493\u001b[0m \u001b[39mwith\u001b[39;00m \u001b[39mself\u001b[39m\u001b[39m.\u001b[39m_lock:\n\u001b[0;32m   2494\u001b[0m   (graph_function,\n\u001b[0;32m   2495\u001b[0m    filtered_flat_args) \u001b[39m=\u001b[39m \u001b[39mself\u001b[39m\u001b[39m.\u001b[39m_maybe_define_function(args, kwargs)\n\u001b[1;32m-> 2496\u001b[0m \u001b[39mreturn\u001b[39;00m graph_function\u001b[39m.\u001b[39;49m_call_flat(\n\u001b[0;32m   2497\u001b[0m     filtered_flat_args, captured_inputs\u001b[39m=\u001b[39;49mgraph_function\u001b[39m.\u001b[39;49mcaptured_inputs)\n",
      "File \u001b[1;32mc:\\Users\\Usuario\\AppData\\Local\\Programs\\Python\\Python310\\lib\\site-packages\\tensorflow\\python\\eager\\function.py:1862\u001b[0m, in \u001b[0;36mConcreteFunction._call_flat\u001b[1;34m(self, args, captured_inputs, cancellation_manager)\u001b[0m\n\u001b[0;32m   1858\u001b[0m possible_gradient_type \u001b[39m=\u001b[39m gradients_util\u001b[39m.\u001b[39mPossibleTapeGradientTypes(args)\n\u001b[0;32m   1859\u001b[0m \u001b[39mif\u001b[39;00m (possible_gradient_type \u001b[39m==\u001b[39m gradients_util\u001b[39m.\u001b[39mPOSSIBLE_GRADIENT_TYPES_NONE\n\u001b[0;32m   1860\u001b[0m     \u001b[39mand\u001b[39;00m executing_eagerly):\n\u001b[0;32m   1861\u001b[0m   \u001b[39m# No tape is watching; skip to running the function.\u001b[39;00m\n\u001b[1;32m-> 1862\u001b[0m   \u001b[39mreturn\u001b[39;00m \u001b[39mself\u001b[39m\u001b[39m.\u001b[39m_build_call_outputs(\u001b[39mself\u001b[39;49m\u001b[39m.\u001b[39;49m_inference_function\u001b[39m.\u001b[39;49mcall(\n\u001b[0;32m   1863\u001b[0m       ctx, args, cancellation_manager\u001b[39m=\u001b[39;49mcancellation_manager))\n\u001b[0;32m   1864\u001b[0m forward_backward \u001b[39m=\u001b[39m \u001b[39mself\u001b[39m\u001b[39m.\u001b[39m_select_forward_and_backward_functions(\n\u001b[0;32m   1865\u001b[0m     args,\n\u001b[0;32m   1866\u001b[0m     possible_gradient_type,\n\u001b[0;32m   1867\u001b[0m     executing_eagerly)\n\u001b[0;32m   1868\u001b[0m forward_function, args_with_tangents \u001b[39m=\u001b[39m forward_backward\u001b[39m.\u001b[39mforward()\n",
      "File \u001b[1;32mc:\\Users\\Usuario\\AppData\\Local\\Programs\\Python\\Python310\\lib\\site-packages\\tensorflow\\python\\eager\\function.py:499\u001b[0m, in \u001b[0;36m_EagerDefinedFunction.call\u001b[1;34m(self, ctx, args, cancellation_manager)\u001b[0m\n\u001b[0;32m    497\u001b[0m \u001b[39mwith\u001b[39;00m _InterpolateFunctionError(\u001b[39mself\u001b[39m):\n\u001b[0;32m    498\u001b[0m   \u001b[39mif\u001b[39;00m cancellation_manager \u001b[39mis\u001b[39;00m \u001b[39mNone\u001b[39;00m:\n\u001b[1;32m--> 499\u001b[0m     outputs \u001b[39m=\u001b[39m execute\u001b[39m.\u001b[39;49mexecute(\n\u001b[0;32m    500\u001b[0m         \u001b[39mstr\u001b[39;49m(\u001b[39mself\u001b[39;49m\u001b[39m.\u001b[39;49msignature\u001b[39m.\u001b[39;49mname),\n\u001b[0;32m    501\u001b[0m         num_outputs\u001b[39m=\u001b[39;49m\u001b[39mself\u001b[39;49m\u001b[39m.\u001b[39;49m_num_outputs,\n\u001b[0;32m    502\u001b[0m         inputs\u001b[39m=\u001b[39;49margs,\n\u001b[0;32m    503\u001b[0m         attrs\u001b[39m=\u001b[39;49mattrs,\n\u001b[0;32m    504\u001b[0m         ctx\u001b[39m=\u001b[39;49mctx)\n\u001b[0;32m    505\u001b[0m   \u001b[39melse\u001b[39;00m:\n\u001b[0;32m    506\u001b[0m     outputs \u001b[39m=\u001b[39m execute\u001b[39m.\u001b[39mexecute_with_cancellation(\n\u001b[0;32m    507\u001b[0m         \u001b[39mstr\u001b[39m(\u001b[39mself\u001b[39m\u001b[39m.\u001b[39msignature\u001b[39m.\u001b[39mname),\n\u001b[0;32m    508\u001b[0m         num_outputs\u001b[39m=\u001b[39m\u001b[39mself\u001b[39m\u001b[39m.\u001b[39m_num_outputs,\n\u001b[1;32m   (...)\u001b[0m\n\u001b[0;32m    511\u001b[0m         ctx\u001b[39m=\u001b[39mctx,\n\u001b[0;32m    512\u001b[0m         cancellation_manager\u001b[39m=\u001b[39mcancellation_manager)\n",
      "File \u001b[1;32mc:\\Users\\Usuario\\AppData\\Local\\Programs\\Python\\Python310\\lib\\site-packages\\tensorflow\\python\\eager\\execute.py:54\u001b[0m, in \u001b[0;36mquick_execute\u001b[1;34m(op_name, num_outputs, inputs, attrs, ctx, name)\u001b[0m\n\u001b[0;32m     52\u001b[0m \u001b[39mtry\u001b[39;00m:\n\u001b[0;32m     53\u001b[0m   ctx\u001b[39m.\u001b[39mensure_initialized()\n\u001b[1;32m---> 54\u001b[0m   tensors \u001b[39m=\u001b[39m pywrap_tfe\u001b[39m.\u001b[39;49mTFE_Py_Execute(ctx\u001b[39m.\u001b[39;49m_handle, device_name, op_name,\n\u001b[0;32m     55\u001b[0m                                       inputs, attrs, num_outputs)\n\u001b[0;32m     56\u001b[0m \u001b[39mexcept\u001b[39;00m core\u001b[39m.\u001b[39m_NotOkStatusException \u001b[39mas\u001b[39;00m e:\n\u001b[0;32m     57\u001b[0m   \u001b[39mif\u001b[39;00m name \u001b[39mis\u001b[39;00m \u001b[39mnot\u001b[39;00m \u001b[39mNone\u001b[39;00m:\n",
      "\u001b[1;31mKeyboardInterrupt\u001b[0m: "
     ]
    }
   ],
   "source": [
    "epochs = 500\n",
    "batch_size = 300\n",
    "\n",
    "# Callback de configuración del Early Stopping\n",
    "early_stop = EarlyStopping(monitor='val_loss', mode='min', verbose=1, patience=30)\n",
    "\n",
    "# Callback de configuración de la reudcción del Learning Rate\n",
    "reduce_lr = ReduceLROnPlateau(monitor='val_loss', factor=0.5,\n",
    "                              patience=4, min_lr=0.00001)\n",
    "\n",
    "# Entrenamos el modelo\n",
    "history = model.fit(av_x_train, av_y_train, batch_size=batch_size, epochs=epochs, verbose=1, validation_split = 0.1, callbacks=[early_stop, reduce_lr])"
   ]
  },
  {
   "cell_type": "code",
   "execution_count": 17,
   "metadata": {},
   "outputs": [
    {
     "data": {
      "text/plain": [
       "<matplotlib.legend.Legend at 0x1deec56a170>"
      ]
     },
     "execution_count": 17,
     "metadata": {},
     "output_type": "execute_result"
    },
    {
     "data": {
      "image/png": "[encoded data removed]",
      "text/plain": [
       "<Figure size 640x480 with 1 Axes>"
      ]
     },
     "metadata": {},
     "output_type": "display_data"
    }
   ],
   "source": [
    "plt.figure\n",
    "plt.plot(history.history['loss'][5:],label=\"loss\")\n",
    "plt.plot(history.history['val_loss'][5:],label=\"val_loss\")\n",
    "plt.legend()"
   ]
  },
  {
   "cell_type": "code",
   "execution_count": 18,
   "metadata": {},
   "outputs": [
    {
     "name": "stdout",
     "output_type": "stream",
     "text": [
      "313/313 [==============================] - 13s 41ms/step - loss: 1.5038\n"
     ]
    },
    {
     "data": {
      "text/plain": [
       "1.503841757774353"
      ]
     },
     "execution_count": 18,
     "metadata": {},
     "output_type": "execute_result"
    }
   ],
   "source": [
    "score = model.evaluate(x_test,y_test)\n",
    "score"
   ]
  },
  {
   "cell_type": "code",
   "execution_count": 19,
   "metadata": {},
   "outputs": [
    {
     "name": "stdout",
     "output_type": "stream",
     "text": [
      "313/313 [==============================] - 14s 43ms/step\n"
     ]
    },
    {
     "data": {
      "text/plain": [
       "1.3699832"
      ]
     },
     "execution_count": 19,
     "metadata": {},
     "output_type": "execute_result"
    }
   ],
   "source": [
    "# Predecimos en test\n",
    "y_hat = model.predict(x_test)\n",
    "# mostramos el error\n",
    "np.mean(abs(y_hat[:,0]-y_test))"
   ]
  },
  {
   "cell_type": "code",
   "execution_count": null,
   "metadata": {},
   "outputs": [],
   "source": []
  },
  {
   "cell_type": "code",
   "execution_count": 45,
   "metadata": {},
   "outputs": [],
   "source": [
    "from keras.datasets import mnist\n",
    "from keras.utils import to_categorical\n",
    "from keras.layers import Dense, Conv2D, Flatten, Dropout, BatchNormalization, MaxPooling2D\n",
    "from keras.models import Sequential\n",
    "import matplotlib.pyplot as plt\n",
    "from keras.optimizers import Adam"
   ]
  },
  {
   "cell_type": "code",
   "execution_count": 46,
   "metadata": {},
   "outputs": [
    {
     "name": "stdout",
     "output_type": "stream",
     "text": [
      "(60000, 28, 28)\n",
      "(60000,)\n"
     ]
    }
   ],
   "source": [
    "# descargamos separados en entrenamiento y tes\n",
    "(X_train, y_train), (X_test, y_test) = fashion_mnist.load_data()\n",
    "\n",
    "# tamaño de los datos\n",
    "print(X_train.shape)\n",
    "print(y_train.shape)"
   ]
  },
  {
   "cell_type": "code",
   "execution_count": 47,
   "metadata": {},
   "outputs": [
    {
     "name": "stdout",
     "output_type": "stream",
     "text": [
      "9\n",
      "(1000, 28, 28, 1)\n",
      "(1000,)\n"
     ]
    },
    {
     "data": {
      "image/png": "[encoded data removed]",
      "text/plain": [
       "<Figure size 640x480 with 1 Axes>"
      ]
     },
     "metadata": {},
     "output_type": "display_data"
    }
   ],
   "source": [
    "#plot the first image in the dataset\n",
    "plt.imshow(X_train[0,:,:],cmap='gray')\n",
    "\n",
    "# Mostramos la etiqueta de la imagen\n",
    "print(y_train[0])\n",
    "\n",
    "\n",
    "X_train = X_train.reshape(60000,28,28,1)\n",
    "X_test = X_test.reshape(10000,28,28,1)\n",
    "\n",
    "\n",
    "X_train = X_train[0:1000,:,:,:]\n",
    "X_test = X_test[0:1000,:,:,:]\n",
    "y_train = y_train[0:1000]\n",
    "y_test = y_test[0:1000]\n",
    "\n",
    "print(X_train.shape)\n",
    "print(y_train.shape)"
   ]
  },
  {
   "cell_type": "code",
   "execution_count": 48,
   "metadata": {},
   "outputs": [
    {
     "name": "stdout",
     "output_type": "stream",
     "text": [
      "(1000, 10)\n",
      "9\n",
      "[0. 0. 0. 0. 0. 0. 0. 0. 0. 1.]\n"
     ]
    }
   ],
   "source": [
    "# me guardo los y_train antes de hacer el one-hot\n",
    "y_train_old = y_train\n",
    "\n",
    "y_train = to_categorical(y_train)\n",
    "y_test = to_categorical(y_test)\n",
    "\n",
    "print(y_train.shape)\n",
    "\n",
    "\n",
    "y_train[0,:]\n",
    "\n",
    "# Lo que antes era \n",
    "print(y_train_old[0,])\n",
    "# Ahora es\n",
    "print(y_train[0,:])"
   ]
  },
  {
   "cell_type": "code",
   "execution_count": 49,
   "metadata": {},
   "outputs": [
    {
     "name": "stdout",
     "output_type": "stream",
     "text": [
      "Model: \"sequential_5\"\n",
      "_________________________________________________________________\n",
      " Layer (type)                Output Shape              Param #   \n",
      "=================================================================\n",
      " conv2d_2 (Conv2D)           (None, 26, 26, 40)        400       \n",
      "                                                                 \n",
      " conv2d_3 (Conv2D)           (None, 24, 24, 30)        10830     \n",
      "                                                                 \n",
      " flatten_4 (Flatten)         (None, 17280)             0         \n",
      "                                                                 \n",
      " dense_7 (Dense)             (None, 10)                172810    \n",
      "                                                                 \n",
      "=================================================================\n",
      "Total params: 184,040\n",
      "Trainable params: 184,040\n",
      "Non-trainable params: 0\n",
      "_________________________________________________________________\n"
     ]
    }
   ],
   "source": [
    "# Usamos un modelo secuencial\n",
    "model = Sequential()\n",
    "\n",
    "# ponemos dos capas de convolución, una flatten y una densa\n",
    "model.add(Conv2D(40, kernel_size=3, activation='relu', input_shape=(28,28,1), padding='valid'))\n",
    "#model.add(Dropout(0.5))\n",
    "model.add(Conv2D(30, kernel_size=3, activation='relu'))\n",
    "#model.add(BatchNormalization())\n",
    "#model.add(MaxPooling2D(2))\n",
    "#model.add(Conv2D(20, kernel_size=3, activation='relu'))\n",
    "#model.add(Conv2D(32, kernel_size=7, activation='relu'))\n",
    "model.add(Flatten())\n",
    "model.add(Dense(10, activation='softmax'))\n",
    "\n",
    "\n",
    "\n",
    "model.summary()"
   ]
  },
  {
   "cell_type": "code",
   "execution_count": 50,
   "metadata": {},
   "outputs": [],
   "source": [
    "optimizer_adam = Adam() # learning_rate=0.01\n",
    "model.compile(optimizer=optimizer_adam, loss='categorical_crossentropy', metrics=['categorical_accuracy'],)"
   ]
  },
  {
   "cell_type": "code",
   "execution_count": 51,
   "metadata": {},
   "outputs": [
    {
     "name": "stdout",
     "output_type": "stream",
     "text": [
      "Epoch 1/250\n",
      "29/29 [==============================] - 1s 17ms/step - loss: 15.7017 - categorical_accuracy: 0.5200 - val_loss: 0.8379 - val_categorical_accuracy: 0.7500\n",
      "Epoch 2/250\n",
      "29/29 [==============================] - 0s 6ms/step - loss: 0.4925 - categorical_accuracy: 0.8333 - val_loss: 0.7334 - val_categorical_accuracy: 0.8000\n",
      "Epoch 3/250\n",
      "29/29 [==============================] - 0s 6ms/step - loss: 0.2343 - categorical_accuracy: 0.9200 - val_loss: 0.7939 - val_categorical_accuracy: 0.7800\n",
      "Epoch 4/250\n",
      "29/29 [==============================] - 0s 5ms/step - loss: 0.1620 - categorical_accuracy: 0.9444 - val_loss: 0.7628 - val_categorical_accuracy: 0.8100\n",
      "Epoch 5/250\n",
      "29/29 [==============================] - 0s 5ms/step - loss: 0.0995 - categorical_accuracy: 0.9722 - val_loss: 0.9949 - val_categorical_accuracy: 0.8100\n",
      "Epoch 6/250\n",
      "29/29 [==============================] - 0s 5ms/step - loss: 0.0687 - categorical_accuracy: 0.9811 - val_loss: 0.9416 - val_categorical_accuracy: 0.8200\n",
      "Epoch 7/250\n",
      "29/29 [==============================] - 0s 5ms/step - loss: 0.0391 - categorical_accuracy: 0.9856 - val_loss: 0.9864 - val_categorical_accuracy: 0.8300\n",
      "Epoch 8/250\n",
      "29/29 [==============================] - 0s 5ms/step - loss: 0.0170 - categorical_accuracy: 0.9989 - val_loss: 1.2654 - val_categorical_accuracy: 0.7700\n",
      "Epoch 9/250\n",
      "29/29 [==============================] - 0s 5ms/step - loss: 0.0088 - categorical_accuracy: 1.0000 - val_loss: 1.2270 - val_categorical_accuracy: 0.8000\n",
      "Epoch 10/250\n",
      "29/29 [==============================] - 0s 5ms/step - loss: 0.0034 - categorical_accuracy: 1.0000 - val_loss: 1.2562 - val_categorical_accuracy: 0.8100\n",
      "Epoch 11/250\n",
      "29/29 [==============================] - 0s 5ms/step - loss: 0.0039 - categorical_accuracy: 1.0000 - val_loss: 1.3275 - val_categorical_accuracy: 0.8400\n",
      "Epoch 12/250\n",
      "29/29 [==============================] - 0s 6ms/step - loss: 0.0056 - categorical_accuracy: 0.9978 - val_loss: 1.3949 - val_categorical_accuracy: 0.8000\n",
      "Epoch 13/250\n",
      "29/29 [==============================] - 0s 6ms/step - loss: 0.0037 - categorical_accuracy: 1.0000 - val_loss: 1.3133 - val_categorical_accuracy: 0.8400\n",
      "Epoch 14/250\n",
      "29/29 [==============================] - 0s 6ms/step - loss: 0.0015 - categorical_accuracy: 1.0000 - val_loss: 1.5803 - val_categorical_accuracy: 0.8300\n",
      "Epoch 15/250\n",
      "29/29 [==============================] - 0s 6ms/step - loss: 6.9784e-04 - categorical_accuracy: 1.0000 - val_loss: 1.5139 - val_categorical_accuracy: 0.8100\n",
      "Epoch 16/250\n",
      "29/29 [==============================] - 0s 6ms/step - loss: 4.3672e-04 - categorical_accuracy: 1.0000 - val_loss: 1.5610 - val_categorical_accuracy: 0.8100\n",
      "Epoch 17/250\n",
      "29/29 [==============================] - 0s 6ms/step - loss: 3.2054e-04 - categorical_accuracy: 1.0000 - val_loss: 1.5907 - val_categorical_accuracy: 0.8200\n",
      "Epoch 18/250\n",
      "29/29 [==============================] - 0s 6ms/step - loss: 2.7733e-04 - categorical_accuracy: 1.0000 - val_loss: 1.6084 - val_categorical_accuracy: 0.8200\n",
      "Epoch 19/250\n",
      "29/29 [==============================] - 0s 6ms/step - loss: 2.4582e-04 - categorical_accuracy: 1.0000 - val_loss: 1.6285 - val_categorical_accuracy: 0.8200\n",
      "Epoch 20/250\n",
      "29/29 [==============================] - 0s 6ms/step - loss: 2.2042e-04 - categorical_accuracy: 1.0000 - val_loss: 1.6428 - val_categorical_accuracy: 0.8200\n",
      "Epoch 21/250\n",
      "29/29 [==============================] - 0s 6ms/step - loss: 2.0184e-04 - categorical_accuracy: 1.0000 - val_loss: 1.6518 - val_categorical_accuracy: 0.8200\n",
      "Epoch 22/250\n",
      "29/29 [==============================] - 0s 6ms/step - loss: 1.9027e-04 - categorical_accuracy: 1.0000 - val_loss: 1.6580 - val_categorical_accuracy: 0.8200\n",
      "Epoch 23/250\n",
      "29/29 [==============================] - 0s 6ms/step - loss: 1.7049e-04 - categorical_accuracy: 1.0000 - val_loss: 1.6788 - val_categorical_accuracy: 0.8200\n",
      "Epoch 24/250\n",
      "29/29 [==============================] - 0s 6ms/step - loss: 1.5593e-04 - categorical_accuracy: 1.0000 - val_loss: 1.6870 - val_categorical_accuracy: 0.8200\n",
      "Epoch 25/250\n",
      "29/29 [==============================] - 0s 6ms/step - loss: 1.4443e-04 - categorical_accuracy: 1.0000 - val_loss: 1.6987 - val_categorical_accuracy: 0.8200\n",
      "Epoch 26/250\n",
      "29/29 [==============================] - 0s 6ms/step - loss: 1.3424e-04 - categorical_accuracy: 1.0000 - val_loss: 1.7094 - val_categorical_accuracy: 0.8200\n",
      "Epoch 27/250\n",
      "29/29 [==============================] - 0s 6ms/step - loss: 1.2526e-04 - categorical_accuracy: 1.0000 - val_loss: 1.7175 - val_categorical_accuracy: 0.8200\n",
      "Epoch 28/250\n",
      "29/29 [==============================] - 0s 6ms/step - loss: 1.1697e-04 - categorical_accuracy: 1.0000 - val_loss: 1.7286 - val_categorical_accuracy: 0.8200\n",
      "Epoch 29/250\n",
      "29/29 [==============================] - 0s 6ms/step - loss: 1.1007e-04 - categorical_accuracy: 1.0000 - val_loss: 1.7400 - val_categorical_accuracy: 0.8200\n",
      "Epoch 30/250\n",
      "29/29 [==============================] - 0s 6ms/step - loss: 1.0242e-04 - categorical_accuracy: 1.0000 - val_loss: 1.7487 - val_categorical_accuracy: 0.8200\n",
      "Epoch 31/250\n",
      "29/29 [==============================] - 0s 6ms/step - loss: 9.7644e-05 - categorical_accuracy: 1.0000 - val_loss: 1.7697 - val_categorical_accuracy: 0.8200\n",
      "Epoch 32/250\n",
      "29/29 [==============================] - 0s 6ms/step - loss: 9.1069e-05 - categorical_accuracy: 1.0000 - val_loss: 1.7688 - val_categorical_accuracy: 0.8200\n",
      "Epoch 33/250\n",
      "29/29 [==============================] - 0s 6ms/step - loss: 8.7130e-05 - categorical_accuracy: 1.0000 - val_loss: 1.7737 - val_categorical_accuracy: 0.8200\n",
      "Epoch 34/250\n",
      "29/29 [==============================] - 0s 6ms/step - loss: 8.1180e-05 - categorical_accuracy: 1.0000 - val_loss: 1.7840 - val_categorical_accuracy: 0.8200\n",
      "Epoch 35/250\n",
      "29/29 [==============================] - 0s 6ms/step - loss: 7.6469e-05 - categorical_accuracy: 1.0000 - val_loss: 1.7907 - val_categorical_accuracy: 0.8200\n",
      "Epoch 36/250\n",
      "29/29 [==============================] - 0s 6ms/step - loss: 7.2408e-05 - categorical_accuracy: 1.0000 - val_loss: 1.7971 - val_categorical_accuracy: 0.8200\n",
      "Epoch 37/250\n",
      "29/29 [==============================] - 0s 6ms/step - loss: 6.8712e-05 - categorical_accuracy: 1.0000 - val_loss: 1.8069 - val_categorical_accuracy: 0.8200\n",
      "Epoch 38/250\n",
      "29/29 [==============================] - 0s 6ms/step - loss: 6.5054e-05 - categorical_accuracy: 1.0000 - val_loss: 1.8132 - val_categorical_accuracy: 0.8200\n",
      "Epoch 39/250\n",
      "29/29 [==============================] - 0s 6ms/step - loss: 6.2127e-05 - categorical_accuracy: 1.0000 - val_loss: 1.8200 - val_categorical_accuracy: 0.8200\n",
      "Epoch 40/250\n",
      "29/29 [==============================] - 0s 6ms/step - loss: 5.9059e-05 - categorical_accuracy: 1.0000 - val_loss: 1.8247 - val_categorical_accuracy: 0.8200\n",
      "Epoch 41/250\n",
      "29/29 [==============================] - 0s 6ms/step - loss: 5.6480e-05 - categorical_accuracy: 1.0000 - val_loss: 1.8326 - val_categorical_accuracy: 0.8200\n",
      "Epoch 42/250\n",
      "29/29 [==============================] - 0s 6ms/step - loss: 5.3810e-05 - categorical_accuracy: 1.0000 - val_loss: 1.8411 - val_categorical_accuracy: 0.8200\n",
      "Epoch 43/250\n",
      "29/29 [==============================] - 0s 6ms/step - loss: 5.1260e-05 - categorical_accuracy: 1.0000 - val_loss: 1.8432 - val_categorical_accuracy: 0.8200\n",
      "Epoch 44/250\n",
      "29/29 [==============================] - 0s 6ms/step - loss: 4.8954e-05 - categorical_accuracy: 1.0000 - val_loss: 1.8498 - val_categorical_accuracy: 0.8200\n",
      "Epoch 45/250\n",
      "29/29 [==============================] - 0s 6ms/step - loss: 4.6777e-05 - categorical_accuracy: 1.0000 - val_loss: 1.8555 - val_categorical_accuracy: 0.8200\n",
      "Epoch 46/250\n",
      "29/29 [==============================] - 0s 6ms/step - loss: 4.4960e-05 - categorical_accuracy: 1.0000 - val_loss: 1.8624 - val_categorical_accuracy: 0.8200\n",
      "Epoch 47/250\n",
      "29/29 [==============================] - 0s 6ms/step - loss: 4.3201e-05 - categorical_accuracy: 1.0000 - val_loss: 1.8664 - val_categorical_accuracy: 0.8200\n",
      "Epoch 48/250\n",
      "29/29 [==============================] - 0s 6ms/step - loss: 4.1602e-05 - categorical_accuracy: 1.0000 - val_loss: 1.8680 - val_categorical_accuracy: 0.8200\n",
      "Epoch 49/250\n",
      "29/29 [==============================] - 0s 6ms/step - loss: 3.9630e-05 - categorical_accuracy: 1.0000 - val_loss: 1.8758 - val_categorical_accuracy: 0.8200\n",
      "Epoch 50/250\n",
      "29/29 [==============================] - 0s 6ms/step - loss: 3.8194e-05 - categorical_accuracy: 1.0000 - val_loss: 1.8804 - val_categorical_accuracy: 0.8200\n",
      "Epoch 51/250\n",
      "29/29 [==============================] - 0s 6ms/step - loss: 3.6751e-05 - categorical_accuracy: 1.0000 - val_loss: 1.8838 - val_categorical_accuracy: 0.8200\n",
      "Epoch 52/250\n",
      "29/29 [==============================] - 0s 6ms/step - loss: 3.5344e-05 - categorical_accuracy: 1.0000 - val_loss: 1.8861 - val_categorical_accuracy: 0.8200\n",
      "Epoch 53/250\n",
      "29/29 [==============================] - 0s 6ms/step - loss: 3.4110e-05 - categorical_accuracy: 1.0000 - val_loss: 1.8926 - val_categorical_accuracy: 0.8200\n",
      "Epoch 54/250\n",
      "29/29 [==============================] - 0s 6ms/step - loss: 3.2867e-05 - categorical_accuracy: 1.0000 - val_loss: 1.8966 - val_categorical_accuracy: 0.8200\n",
      "Epoch 55/250\n",
      "29/29 [==============================] - 0s 7ms/step - loss: 3.1690e-05 - categorical_accuracy: 1.0000 - val_loss: 1.8994 - val_categorical_accuracy: 0.8200\n",
      "Epoch 56/250\n",
      "29/29 [==============================] - 0s 7ms/step - loss: 3.0514e-05 - categorical_accuracy: 1.0000 - val_loss: 1.9021 - val_categorical_accuracy: 0.8200\n",
      "Epoch 57/250\n",
      "29/29 [==============================] - 0s 7ms/step - loss: 2.9447e-05 - categorical_accuracy: 1.0000 - val_loss: 1.9047 - val_categorical_accuracy: 0.8200\n",
      "Epoch 58/250\n",
      "29/29 [==============================] - 0s 7ms/step - loss: 2.8375e-05 - categorical_accuracy: 1.0000 - val_loss: 1.9077 - val_categorical_accuracy: 0.8200\n",
      "Epoch 59/250\n",
      "29/29 [==============================] - 0s 7ms/step - loss: 2.7390e-05 - categorical_accuracy: 1.0000 - val_loss: 1.9148 - val_categorical_accuracy: 0.8200\n",
      "Epoch 60/250\n",
      "29/29 [==============================] - 0s 7ms/step - loss: 2.6449e-05 - categorical_accuracy: 1.0000 - val_loss: 1.9187 - val_categorical_accuracy: 0.8200\n",
      "Epoch 61/250\n",
      "29/29 [==============================] - 0s 7ms/step - loss: 2.5524e-05 - categorical_accuracy: 1.0000 - val_loss: 1.9220 - val_categorical_accuracy: 0.8200\n",
      "Epoch 62/250\n",
      "29/29 [==============================] - 0s 7ms/step - loss: 2.4592e-05 - categorical_accuracy: 1.0000 - val_loss: 1.9262 - val_categorical_accuracy: 0.8200\n",
      "Epoch 63/250\n",
      "29/29 [==============================] - 0s 6ms/step - loss: 2.3756e-05 - categorical_accuracy: 1.0000 - val_loss: 1.9306 - val_categorical_accuracy: 0.8200\n",
      "Epoch 64/250\n",
      "29/29 [==============================] - 0s 6ms/step - loss: 2.3036e-05 - categorical_accuracy: 1.0000 - val_loss: 1.9344 - val_categorical_accuracy: 0.8200\n",
      "Epoch 65/250\n",
      "29/29 [==============================] - 0s 7ms/step - loss: 2.2269e-05 - categorical_accuracy: 1.0000 - val_loss: 1.9377 - val_categorical_accuracy: 0.8200\n",
      "Epoch 66/250\n",
      "29/29 [==============================] - 0s 7ms/step - loss: 2.1546e-05 - categorical_accuracy: 1.0000 - val_loss: 1.9391 - val_categorical_accuracy: 0.8200\n",
      "Epoch 67/250\n",
      "29/29 [==============================] - 0s 6ms/step - loss: 2.0922e-05 - categorical_accuracy: 1.0000 - val_loss: 1.9460 - val_categorical_accuracy: 0.8200\n",
      "Epoch 68/250\n",
      "29/29 [==============================] - 0s 6ms/step - loss: 2.0247e-05 - categorical_accuracy: 1.0000 - val_loss: 1.9494 - val_categorical_accuracy: 0.8200\n",
      "Epoch 69/250\n",
      "29/29 [==============================] - 0s 7ms/step - loss: 1.9572e-05 - categorical_accuracy: 1.0000 - val_loss: 1.9515 - val_categorical_accuracy: 0.8200\n",
      "Epoch 70/250\n",
      "29/29 [==============================] - 0s 7ms/step - loss: 1.8965e-05 - categorical_accuracy: 1.0000 - val_loss: 1.9544 - val_categorical_accuracy: 0.8200\n",
      "Epoch 71/250\n",
      "29/29 [==============================] - 0s 6ms/step - loss: 1.8409e-05 - categorical_accuracy: 1.0000 - val_loss: 1.9610 - val_categorical_accuracy: 0.8200\n",
      "Epoch 72/250\n",
      "29/29 [==============================] - 0s 6ms/step - loss: 1.7861e-05 - categorical_accuracy: 1.0000 - val_loss: 1.9617 - val_categorical_accuracy: 0.8200\n",
      "Epoch 73/250\n",
      "29/29 [==============================] - 0s 7ms/step - loss: 1.7331e-05 - categorical_accuracy: 1.0000 - val_loss: 1.9665 - val_categorical_accuracy: 0.8200\n",
      "Epoch 74/250\n",
      "29/29 [==============================] - 0s 7ms/step - loss: 1.6721e-05 - categorical_accuracy: 1.0000 - val_loss: 1.9683 - val_categorical_accuracy: 0.8200\n",
      "Epoch 75/250\n",
      "29/29 [==============================] - 0s 6ms/step - loss: 1.6428e-05 - categorical_accuracy: 1.0000 - val_loss: 1.9654 - val_categorical_accuracy: 0.8200\n",
      "Epoch 76/250\n",
      "29/29 [==============================] - 0s 7ms/step - loss: 1.5891e-05 - categorical_accuracy: 1.0000 - val_loss: 1.9720 - val_categorical_accuracy: 0.8200\n",
      "Epoch 77/250\n",
      "29/29 [==============================] - 0s 7ms/step - loss: 1.5263e-05 - categorical_accuracy: 1.0000 - val_loss: 1.9786 - val_categorical_accuracy: 0.8200\n",
      "Epoch 78/250\n",
      "29/29 [==============================] - 0s 7ms/step - loss: 1.4872e-05 - categorical_accuracy: 1.0000 - val_loss: 1.9822 - val_categorical_accuracy: 0.8200\n",
      "Epoch 79/250\n",
      "29/29 [==============================] - 0s 7ms/step - loss: 1.4505e-05 - categorical_accuracy: 1.0000 - val_loss: 1.9850 - val_categorical_accuracy: 0.8200\n",
      "Epoch 80/250\n",
      "29/29 [==============================] - 0s 6ms/step - loss: 1.3976e-05 - categorical_accuracy: 1.0000 - val_loss: 1.9906 - val_categorical_accuracy: 0.8200\n",
      "Epoch 81/250\n",
      "29/29 [==============================] - 0s 7ms/step - loss: 1.3625e-05 - categorical_accuracy: 1.0000 - val_loss: 1.9934 - val_categorical_accuracy: 0.8200\n",
      "Epoch 82/250\n",
      "29/29 [==============================] - 0s 6ms/step - loss: 1.3332e-05 - categorical_accuracy: 1.0000 - val_loss: 1.9870 - val_categorical_accuracy: 0.8200\n",
      "Epoch 83/250\n",
      "29/29 [==============================] - 0s 6ms/step - loss: 1.2876e-05 - categorical_accuracy: 1.0000 - val_loss: 1.9929 - val_categorical_accuracy: 0.8200\n",
      "Epoch 84/250\n",
      "29/29 [==============================] - 0s 7ms/step - loss: 1.2570e-05 - categorical_accuracy: 1.0000 - val_loss: 1.9949 - val_categorical_accuracy: 0.8200\n",
      "Epoch 85/250\n",
      "29/29 [==============================] - 0s 7ms/step - loss: 1.2347e-05 - categorical_accuracy: 1.0000 - val_loss: 2.0055 - val_categorical_accuracy: 0.8200\n",
      "Epoch 86/250\n",
      "29/29 [==============================] - 0s 6ms/step - loss: 1.1833e-05 - categorical_accuracy: 1.0000 - val_loss: 2.0091 - val_categorical_accuracy: 0.8200\n",
      "Epoch 87/250\n",
      "29/29 [==============================] - 0s 7ms/step - loss: 1.1511e-05 - categorical_accuracy: 1.0000 - val_loss: 2.0106 - val_categorical_accuracy: 0.8200\n",
      "Epoch 88/250\n",
      "29/29 [==============================] - 0s 7ms/step - loss: 1.1207e-05 - categorical_accuracy: 1.0000 - val_loss: 2.0160 - val_categorical_accuracy: 0.8200\n",
      "Epoch 89/250\n",
      "29/29 [==============================] - 0s 7ms/step - loss: 1.0888e-05 - categorical_accuracy: 1.0000 - val_loss: 2.0179 - val_categorical_accuracy: 0.8200\n",
      "Epoch 90/250\n",
      "29/29 [==============================] - 0s 7ms/step - loss: 1.0654e-05 - categorical_accuracy: 1.0000 - val_loss: 2.0220 - val_categorical_accuracy: 0.8200\n",
      "Epoch 91/250\n",
      "29/29 [==============================] - 0s 7ms/step - loss: 1.0384e-05 - categorical_accuracy: 1.0000 - val_loss: 2.0248 - val_categorical_accuracy: 0.8200\n",
      "Epoch 92/250\n",
      "29/29 [==============================] - 0s 7ms/step - loss: 1.0094e-05 - categorical_accuracy: 1.0000 - val_loss: 2.0272 - val_categorical_accuracy: 0.8200\n",
      "Epoch 93/250\n",
      "29/29 [==============================] - 0s 7ms/step - loss: 9.8306e-06 - categorical_accuracy: 1.0000 - val_loss: 2.0306 - val_categorical_accuracy: 0.8200\n",
      "Epoch 94/250\n",
      "29/29 [==============================] - 0s 6ms/step - loss: 9.5730e-06 - categorical_accuracy: 1.0000 - val_loss: 2.0361 - val_categorical_accuracy: 0.8200\n",
      "Epoch 95/250\n",
      "29/29 [==============================] - 0s 7ms/step - loss: 9.3563e-06 - categorical_accuracy: 1.0000 - val_loss: 2.0366 - val_categorical_accuracy: 0.8200\n",
      "Epoch 96/250\n",
      "29/29 [==============================] - 0s 6ms/step - loss: 9.1142e-06 - categorical_accuracy: 1.0000 - val_loss: 2.0406 - val_categorical_accuracy: 0.8200\n",
      "Epoch 97/250\n",
      "29/29 [==============================] - 0s 7ms/step - loss: 8.8939e-06 - categorical_accuracy: 1.0000 - val_loss: 2.0431 - val_categorical_accuracy: 0.8200\n",
      "Epoch 98/250\n",
      "29/29 [==============================] - 0s 7ms/step - loss: 8.6784e-06 - categorical_accuracy: 1.0000 - val_loss: 2.0461 - val_categorical_accuracy: 0.8200\n",
      "Epoch 99/250\n",
      "29/29 [==============================] - 0s 7ms/step - loss: 8.5170e-06 - categorical_accuracy: 1.0000 - val_loss: 2.0484 - val_categorical_accuracy: 0.8200\n",
      "Epoch 100/250\n",
      "29/29 [==============================] - 0s 6ms/step - loss: 8.2732e-06 - categorical_accuracy: 1.0000 - val_loss: 2.0546 - val_categorical_accuracy: 0.8200\n",
      "Epoch 101/250\n",
      "29/29 [==============================] - 0s 7ms/step - loss: 8.0621e-06 - categorical_accuracy: 1.0000 - val_loss: 2.0557 - val_categorical_accuracy: 0.8200\n",
      "Epoch 102/250\n",
      "29/29 [==============================] - 0s 6ms/step - loss: 7.8812e-06 - categorical_accuracy: 1.0000 - val_loss: 2.0570 - val_categorical_accuracy: 0.8300\n",
      "Epoch 103/250\n",
      "29/29 [==============================] - 0s 7ms/step - loss: 7.6962e-06 - categorical_accuracy: 1.0000 - val_loss: 2.0583 - val_categorical_accuracy: 0.8200\n",
      "Epoch 104/250\n",
      "29/29 [==============================] - 0s 7ms/step - loss: 7.4975e-06 - categorical_accuracy: 1.0000 - val_loss: 2.0632 - val_categorical_accuracy: 0.8200\n",
      "Epoch 105/250\n",
      "29/29 [==============================] - 0s 7ms/step - loss: 7.3227e-06 - categorical_accuracy: 1.0000 - val_loss: 2.0657 - val_categorical_accuracy: 0.8200\n",
      "Epoch 106/250\n",
      "29/29 [==============================] - 0s 7ms/step - loss: 7.1315e-06 - categorical_accuracy: 1.0000 - val_loss: 2.0696 - val_categorical_accuracy: 0.8200\n",
      "Epoch 107/250\n",
      "29/29 [==============================] - 0s 7ms/step - loss: 6.9896e-06 - categorical_accuracy: 1.0000 - val_loss: 2.0714 - val_categorical_accuracy: 0.8200\n",
      "Epoch 108/250\n",
      "29/29 [==============================] - 0s 8ms/step - loss: 6.7934e-06 - categorical_accuracy: 1.0000 - val_loss: 2.0731 - val_categorical_accuracy: 0.8300\n",
      "Epoch 109/250\n",
      "29/29 [==============================] - 0s 8ms/step - loss: 6.6590e-06 - categorical_accuracy: 1.0000 - val_loss: 2.0777 - val_categorical_accuracy: 0.8300\n",
      "Epoch 110/250\n",
      "29/29 [==============================] - 0s 9ms/step - loss: 6.5085e-06 - categorical_accuracy: 1.0000 - val_loss: 2.0806 - val_categorical_accuracy: 0.8300\n",
      "Epoch 111/250\n",
      "29/29 [==============================] - 0s 8ms/step - loss: 6.3355e-06 - categorical_accuracy: 1.0000 - val_loss: 2.0850 - val_categorical_accuracy: 0.8300\n",
      "Epoch 112/250\n",
      "29/29 [==============================] - 0s 8ms/step - loss: 6.1945e-06 - categorical_accuracy: 1.0000 - val_loss: 2.0869 - val_categorical_accuracy: 0.8300\n",
      "Epoch 113/250\n",
      "29/29 [==============================] - 0s 5ms/step - loss: 6.0717e-06 - categorical_accuracy: 1.0000 - val_loss: 2.0894 - val_categorical_accuracy: 0.8300\n",
      "Epoch 114/250\n",
      "29/29 [==============================] - 0s 5ms/step - loss: 5.9030e-06 - categorical_accuracy: 1.0000 - val_loss: 2.0919 - val_categorical_accuracy: 0.8300\n",
      "Epoch 115/250\n",
      "29/29 [==============================] - 0s 5ms/step - loss: 5.7628e-06 - categorical_accuracy: 1.0000 - val_loss: 2.0951 - val_categorical_accuracy: 0.8300\n",
      "Epoch 116/250\n",
      "29/29 [==============================] - 0s 5ms/step - loss: 5.6517e-06 - categorical_accuracy: 1.0000 - val_loss: 2.0990 - val_categorical_accuracy: 0.8300\n",
      "Epoch 117/250\n",
      "29/29 [==============================] - 0s 5ms/step - loss: 5.5191e-06 - categorical_accuracy: 1.0000 - val_loss: 2.1021 - val_categorical_accuracy: 0.8300\n",
      "Epoch 118/250\n",
      "29/29 [==============================] - 0s 5ms/step - loss: 5.3827e-06 - categorical_accuracy: 1.0000 - val_loss: 2.1036 - val_categorical_accuracy: 0.8300\n",
      "Epoch 119/250\n",
      "29/29 [==============================] - 0s 5ms/step - loss: 5.2718e-06 - categorical_accuracy: 1.0000 - val_loss: 2.1065 - val_categorical_accuracy: 0.8300\n",
      "Epoch 120/250\n",
      "29/29 [==============================] - 0s 5ms/step - loss: 5.1540e-06 - categorical_accuracy: 1.0000 - val_loss: 2.1103 - val_categorical_accuracy: 0.8300\n",
      "Epoch 121/250\n",
      "29/29 [==============================] - 0s 5ms/step - loss: 5.0252e-06 - categorical_accuracy: 1.0000 - val_loss: 2.1111 - val_categorical_accuracy: 0.8300\n",
      "Epoch 122/250\n",
      "29/29 [==============================] - 0s 5ms/step - loss: 4.9202e-06 - categorical_accuracy: 1.0000 - val_loss: 2.1141 - val_categorical_accuracy: 0.8300\n",
      "Epoch 123/250\n",
      "29/29 [==============================] - 0s 5ms/step - loss: 4.8059e-06 - categorical_accuracy: 1.0000 - val_loss: 2.1173 - val_categorical_accuracy: 0.8300\n",
      "Epoch 124/250\n",
      "29/29 [==============================] - 0s 5ms/step - loss: 4.6917e-06 - categorical_accuracy: 1.0000 - val_loss: 2.1223 - val_categorical_accuracy: 0.8300\n",
      "Epoch 125/250\n",
      "29/29 [==============================] - 0s 5ms/step - loss: 4.5952e-06 - categorical_accuracy: 1.0000 - val_loss: 2.1233 - val_categorical_accuracy: 0.8300\n",
      "Epoch 126/250\n",
      "29/29 [==============================] - 0s 5ms/step - loss: 4.4831e-06 - categorical_accuracy: 1.0000 - val_loss: 2.1270 - val_categorical_accuracy: 0.8300\n",
      "Epoch 127/250\n",
      "29/29 [==============================] - 0s 6ms/step - loss: 4.3899e-06 - categorical_accuracy: 1.0000 - val_loss: 2.1299 - val_categorical_accuracy: 0.8300\n",
      "Epoch 128/250\n",
      "29/29 [==============================] - 0s 5ms/step - loss: 4.2848e-06 - categorical_accuracy: 1.0000 - val_loss: 2.1328 - val_categorical_accuracy: 0.8300\n",
      "Epoch 129/250\n",
      "29/29 [==============================] - 0s 6ms/step - loss: 4.1889e-06 - categorical_accuracy: 1.0000 - val_loss: 2.1364 - val_categorical_accuracy: 0.8300\n",
      "Epoch 130/250\n",
      "29/29 [==============================] - 0s 6ms/step - loss: 4.1125e-06 - categorical_accuracy: 1.0000 - val_loss: 2.1381 - val_categorical_accuracy: 0.8300\n",
      "Epoch 131/250\n",
      "29/29 [==============================] - 0s 6ms/step - loss: 4.0263e-06 - categorical_accuracy: 1.0000 - val_loss: 2.1415 - val_categorical_accuracy: 0.8300\n",
      "Epoch 132/250\n",
      "29/29 [==============================] - 0s 6ms/step - loss: 3.9434e-06 - categorical_accuracy: 1.0000 - val_loss: 2.1440 - val_categorical_accuracy: 0.8300\n",
      "Epoch 133/250\n",
      "29/29 [==============================] - 0s 6ms/step - loss: 3.8495e-06 - categorical_accuracy: 1.0000 - val_loss: 2.1459 - val_categorical_accuracy: 0.8300\n",
      "Epoch 134/250\n",
      "29/29 [==============================] - 0s 6ms/step - loss: 3.7705e-06 - categorical_accuracy: 1.0000 - val_loss: 2.1498 - val_categorical_accuracy: 0.8300\n",
      "Epoch 135/250\n",
      "29/29 [==============================] - 0s 6ms/step - loss: 3.6777e-06 - categorical_accuracy: 1.0000 - val_loss: 2.1526 - val_categorical_accuracy: 0.8300\n",
      "Epoch 136/250\n",
      "29/29 [==============================] - 0s 6ms/step - loss: 3.6059e-06 - categorical_accuracy: 1.0000 - val_loss: 2.1549 - val_categorical_accuracy: 0.8300\n",
      "Epoch 137/250\n",
      "29/29 [==============================] - 0s 6ms/step - loss: 3.5387e-06 - categorical_accuracy: 1.0000 - val_loss: 2.1575 - val_categorical_accuracy: 0.8300\n",
      "Epoch 138/250\n",
      "29/29 [==============================] - 0s 6ms/step - loss: 3.4666e-06 - categorical_accuracy: 1.0000 - val_loss: 2.1597 - val_categorical_accuracy: 0.8300\n",
      "Epoch 139/250\n",
      "29/29 [==============================] - 0s 6ms/step - loss: 3.3846e-06 - categorical_accuracy: 1.0000 - val_loss: 2.1591 - val_categorical_accuracy: 0.8200\n",
      "Epoch 140/250\n",
      "29/29 [==============================] - 0s 6ms/step - loss: 3.3242e-06 - categorical_accuracy: 1.0000 - val_loss: 2.1638 - val_categorical_accuracy: 0.8200\n",
      "Epoch 141/250\n",
      "29/29 [==============================] - 0s 6ms/step - loss: 3.2364e-06 - categorical_accuracy: 1.0000 - val_loss: 2.1689 - val_categorical_accuracy: 0.8200\n",
      "Epoch 142/250\n",
      "29/29 [==============================] - 0s 6ms/step - loss: 3.1738e-06 - categorical_accuracy: 1.0000 - val_loss: 2.1711 - val_categorical_accuracy: 0.8200\n",
      "Epoch 143/250\n",
      "29/29 [==============================] - 0s 6ms/step - loss: 3.1051e-06 - categorical_accuracy: 1.0000 - val_loss: 2.1722 - val_categorical_accuracy: 0.8200\n",
      "Epoch 144/250\n",
      "29/29 [==============================] - 0s 6ms/step - loss: 3.0246e-06 - categorical_accuracy: 1.0000 - val_loss: 2.1754 - val_categorical_accuracy: 0.8200\n",
      "Epoch 145/250\n",
      "29/29 [==============================] - 0s 6ms/step - loss: 2.9701e-06 - categorical_accuracy: 1.0000 - val_loss: 2.1786 - val_categorical_accuracy: 0.8200\n",
      "Epoch 146/250\n",
      "29/29 [==============================] - 0s 6ms/step - loss: 2.9047e-06 - categorical_accuracy: 1.0000 - val_loss: 2.1803 - val_categorical_accuracy: 0.8200\n",
      "Epoch 147/250\n",
      "29/29 [==============================] - 0s 6ms/step - loss: 2.8430e-06 - categorical_accuracy: 1.0000 - val_loss: 2.1833 - val_categorical_accuracy: 0.8200\n",
      "Epoch 148/250\n",
      "29/29 [==============================] - 0s 6ms/step - loss: 2.7924e-06 - categorical_accuracy: 1.0000 - val_loss: 2.1861 - val_categorical_accuracy: 0.8200\n",
      "Epoch 149/250\n",
      "29/29 [==============================] - 0s 6ms/step - loss: 2.7315e-06 - categorical_accuracy: 1.0000 - val_loss: 2.1888 - val_categorical_accuracy: 0.8200\n",
      "Epoch 150/250\n",
      "29/29 [==============================] - 0s 6ms/step - loss: 2.6725e-06 - categorical_accuracy: 1.0000 - val_loss: 2.1912 - val_categorical_accuracy: 0.8200\n",
      "Epoch 151/250\n",
      "29/29 [==============================] - 0s 6ms/step - loss: 2.6124e-06 - categorical_accuracy: 1.0000 - val_loss: 2.1943 - val_categorical_accuracy: 0.8200\n",
      "Epoch 152/250\n",
      "29/29 [==============================] - 0s 6ms/step - loss: 2.5635e-06 - categorical_accuracy: 1.0000 - val_loss: 2.1978 - val_categorical_accuracy: 0.8200\n",
      "Epoch 153/250\n",
      "29/29 [==============================] - 0s 6ms/step - loss: 2.5113e-06 - categorical_accuracy: 1.0000 - val_loss: 2.1993 - val_categorical_accuracy: 0.8200\n",
      "Epoch 154/250\n",
      "29/29 [==============================] - 0s 6ms/step - loss: 2.4541e-06 - categorical_accuracy: 1.0000 - val_loss: 2.2040 - val_categorical_accuracy: 0.8200\n",
      "Epoch 155/250\n",
      "29/29 [==============================] - 0s 6ms/step - loss: 2.4054e-06 - categorical_accuracy: 1.0000 - val_loss: 2.2059 - val_categorical_accuracy: 0.8200\n",
      "Epoch 156/250\n",
      "29/29 [==============================] - 0s 6ms/step - loss: 2.3583e-06 - categorical_accuracy: 1.0000 - val_loss: 2.2088 - val_categorical_accuracy: 0.8200\n",
      "Epoch 157/250\n",
      "29/29 [==============================] - 0s 6ms/step - loss: 2.3104e-06 - categorical_accuracy: 1.0000 - val_loss: 2.2090 - val_categorical_accuracy: 0.8200\n",
      "Epoch 158/250\n",
      "29/29 [==============================] - 0s 6ms/step - loss: 2.2615e-06 - categorical_accuracy: 1.0000 - val_loss: 2.2126 - val_categorical_accuracy: 0.8200\n",
      "Epoch 159/250\n",
      "29/29 [==============================] - 0s 6ms/step - loss: 2.2191e-06 - categorical_accuracy: 1.0000 - val_loss: 2.2153 - val_categorical_accuracy: 0.8200\n",
      "Epoch 160/250\n",
      "29/29 [==============================] - 0s 6ms/step - loss: 2.1737e-06 - categorical_accuracy: 1.0000 - val_loss: 2.2165 - val_categorical_accuracy: 0.8200\n",
      "Epoch 161/250\n",
      "29/29 [==============================] - 0s 6ms/step - loss: 2.1299e-06 - categorical_accuracy: 1.0000 - val_loss: 2.2195 - val_categorical_accuracy: 0.8200\n",
      "Epoch 162/250\n",
      "29/29 [==============================] - 0s 6ms/step - loss: 2.0860e-06 - categorical_accuracy: 1.0000 - val_loss: 2.2221 - val_categorical_accuracy: 0.8200\n",
      "Epoch 163/250\n",
      "29/29 [==============================] - 0s 6ms/step - loss: 2.0550e-06 - categorical_accuracy: 1.0000 - val_loss: 2.2228 - val_categorical_accuracy: 0.8200\n",
      "Epoch 164/250\n",
      "29/29 [==============================] - 0s 6ms/step - loss: 2.0006e-06 - categorical_accuracy: 1.0000 - val_loss: 2.2259 - val_categorical_accuracy: 0.8200\n",
      "Epoch 165/250\n",
      "29/29 [==============================] - 0s 6ms/step - loss: 1.9677e-06 - categorical_accuracy: 1.0000 - val_loss: 2.2271 - val_categorical_accuracy: 0.8200\n",
      "Epoch 166/250\n",
      "29/29 [==============================] - 0s 6ms/step - loss: 1.9240e-06 - categorical_accuracy: 1.0000 - val_loss: 2.2300 - val_categorical_accuracy: 0.8200\n",
      "Epoch 167/250\n",
      "29/29 [==============================] - 0s 6ms/step - loss: 1.8887e-06 - categorical_accuracy: 1.0000 - val_loss: 2.2321 - val_categorical_accuracy: 0.8200\n",
      "Epoch 168/250\n",
      "29/29 [==============================] - 0s 6ms/step - loss: 1.8579e-06 - categorical_accuracy: 1.0000 - val_loss: 2.2332 - val_categorical_accuracy: 0.8200\n",
      "Epoch 169/250\n",
      "29/29 [==============================] - 0s 6ms/step - loss: 1.8249e-06 - categorical_accuracy: 1.0000 - val_loss: 2.2378 - val_categorical_accuracy: 0.8200\n",
      "Epoch 170/250\n",
      "29/29 [==============================] - 0s 7ms/step - loss: 1.7812e-06 - categorical_accuracy: 1.0000 - val_loss: 2.2389 - val_categorical_accuracy: 0.8200\n",
      "Epoch 171/250\n",
      "29/29 [==============================] - 0s 6ms/step - loss: 1.7479e-06 - categorical_accuracy: 1.0000 - val_loss: 2.2399 - val_categorical_accuracy: 0.8200\n",
      "Epoch 172/250\n",
      "29/29 [==============================] - 0s 6ms/step - loss: 1.7167e-06 - categorical_accuracy: 1.0000 - val_loss: 2.2431 - val_categorical_accuracy: 0.8200\n",
      "Epoch 173/250\n",
      "29/29 [==============================] - 0s 6ms/step - loss: 1.6794e-06 - categorical_accuracy: 1.0000 - val_loss: 2.2447 - val_categorical_accuracy: 0.8200\n",
      "Epoch 174/250\n",
      "29/29 [==============================] - 0s 6ms/step - loss: 1.6508e-06 - categorical_accuracy: 1.0000 - val_loss: 2.2475 - val_categorical_accuracy: 0.8200\n",
      "Epoch 175/250\n",
      "29/29 [==============================] - 0s 6ms/step - loss: 1.6158e-06 - categorical_accuracy: 1.0000 - val_loss: 2.2488 - val_categorical_accuracy: 0.8200\n",
      "Epoch 176/250\n",
      "29/29 [==============================] - 0s 6ms/step - loss: 1.5954e-06 - categorical_accuracy: 1.0000 - val_loss: 2.2509 - val_categorical_accuracy: 0.8200\n",
      "Epoch 177/250\n",
      "29/29 [==============================] - 0s 6ms/step - loss: 1.5583e-06 - categorical_accuracy: 1.0000 - val_loss: 2.2527 - val_categorical_accuracy: 0.8200\n",
      "Epoch 178/250\n",
      "29/29 [==============================] - 0s 6ms/step - loss: 1.5371e-06 - categorical_accuracy: 1.0000 - val_loss: 2.2557 - val_categorical_accuracy: 0.8200\n",
      "Epoch 179/250\n",
      "29/29 [==============================] - 0s 6ms/step - loss: 1.5036e-06 - categorical_accuracy: 1.0000 - val_loss: 2.2579 - val_categorical_accuracy: 0.8200\n",
      "Epoch 180/250\n",
      "29/29 [==============================] - 0s 6ms/step - loss: 1.4739e-06 - categorical_accuracy: 1.0000 - val_loss: 2.2607 - val_categorical_accuracy: 0.8200\n",
      "Epoch 181/250\n",
      "29/29 [==============================] - 0s 6ms/step - loss: 1.4465e-06 - categorical_accuracy: 1.0000 - val_loss: 2.2625 - val_categorical_accuracy: 0.8200\n",
      "Epoch 182/250\n",
      "29/29 [==============================] - 0s 6ms/step - loss: 1.4187e-06 - categorical_accuracy: 1.0000 - val_loss: 2.2667 - val_categorical_accuracy: 0.8200\n",
      "Epoch 183/250\n",
      "29/29 [==============================] - 0s 6ms/step - loss: 1.3954e-06 - categorical_accuracy: 1.0000 - val_loss: 2.2675 - val_categorical_accuracy: 0.8200\n",
      "Epoch 184/250\n",
      "29/29 [==============================] - 0s 6ms/step - loss: 1.3680e-06 - categorical_accuracy: 1.0000 - val_loss: 2.2706 - val_categorical_accuracy: 0.8200\n",
      "Epoch 185/250\n",
      "29/29 [==============================] - 0s 6ms/step - loss: 1.3451e-06 - categorical_accuracy: 1.0000 - val_loss: 2.2715 - val_categorical_accuracy: 0.8200\n",
      "Epoch 186/250\n",
      "29/29 [==============================] - 0s 6ms/step - loss: 1.3227e-06 - categorical_accuracy: 1.0000 - val_loss: 2.2734 - val_categorical_accuracy: 0.8200\n",
      "Epoch 187/250\n",
      "29/29 [==============================] - 0s 6ms/step - loss: 1.2954e-06 - categorical_accuracy: 1.0000 - val_loss: 2.2759 - val_categorical_accuracy: 0.8200\n",
      "Epoch 188/250\n",
      "29/29 [==============================] - 0s 6ms/step - loss: 1.2684e-06 - categorical_accuracy: 1.0000 - val_loss: 2.2791 - val_categorical_accuracy: 0.8200\n",
      "Epoch 189/250\n",
      "29/29 [==============================] - 0s 6ms/step - loss: 1.2501e-06 - categorical_accuracy: 1.0000 - val_loss: 2.2812 - val_categorical_accuracy: 0.8200\n",
      "Epoch 190/250\n",
      "29/29 [==============================] - 0s 6ms/step - loss: 1.2223e-06 - categorical_accuracy: 1.0000 - val_loss: 2.2844 - val_categorical_accuracy: 0.8200\n",
      "Epoch 191/250\n",
      "29/29 [==============================] - 0s 6ms/step - loss: 1.1988e-06 - categorical_accuracy: 1.0000 - val_loss: 2.2853 - val_categorical_accuracy: 0.8200\n",
      "Epoch 192/250\n",
      "29/29 [==============================] - 0s 7ms/step - loss: 1.1791e-06 - categorical_accuracy: 1.0000 - val_loss: 2.2872 - val_categorical_accuracy: 0.8200\n",
      "Epoch 193/250\n",
      "29/29 [==============================] - 0s 6ms/step - loss: 1.1583e-06 - categorical_accuracy: 1.0000 - val_loss: 2.2895 - val_categorical_accuracy: 0.8200\n",
      "Epoch 194/250\n",
      "29/29 [==============================] - 0s 6ms/step - loss: 1.1339e-06 - categorical_accuracy: 1.0000 - val_loss: 2.2913 - val_categorical_accuracy: 0.8200\n",
      "Epoch 195/250\n",
      "29/29 [==============================] - 0s 6ms/step - loss: 1.1190e-06 - categorical_accuracy: 1.0000 - val_loss: 2.2949 - val_categorical_accuracy: 0.8200\n",
      "Epoch 196/250\n",
      "29/29 [==============================] - 0s 6ms/step - loss: 1.0950e-06 - categorical_accuracy: 1.0000 - val_loss: 2.2957 - val_categorical_accuracy: 0.8200\n",
      "Epoch 197/250\n",
      "29/29 [==============================] - 0s 6ms/step - loss: 1.0734e-06 - categorical_accuracy: 1.0000 - val_loss: 2.2972 - val_categorical_accuracy: 0.8200\n",
      "Epoch 198/250\n",
      "29/29 [==============================] - 0s 6ms/step - loss: 1.0610e-06 - categorical_accuracy: 1.0000 - val_loss: 2.3003 - val_categorical_accuracy: 0.8200\n",
      "Epoch 199/250\n",
      "29/29 [==============================] - 0s 6ms/step - loss: 1.0464e-06 - categorical_accuracy: 1.0000 - val_loss: 2.3055 - val_categorical_accuracy: 0.8200\n",
      "Epoch 200/250\n",
      "29/29 [==============================] - 0s 6ms/step - loss: 1.0218e-06 - categorical_accuracy: 1.0000 - val_loss: 2.3068 - val_categorical_accuracy: 0.8200\n",
      "Epoch 201/250\n",
      "29/29 [==============================] - 0s 6ms/step - loss: 1.0021e-06 - categorical_accuracy: 1.0000 - val_loss: 2.3089 - val_categorical_accuracy: 0.8200\n",
      "Epoch 202/250\n",
      "29/29 [==============================] - 0s 6ms/step - loss: 9.8255e-07 - categorical_accuracy: 1.0000 - val_loss: 2.3091 - val_categorical_accuracy: 0.8200\n",
      "Epoch 203/250\n",
      "29/29 [==============================] - 0s 6ms/step - loss: 9.6413e-07 - categorical_accuracy: 1.0000 - val_loss: 2.3097 - val_categorical_accuracy: 0.8200\n",
      "Epoch 204/250\n",
      "29/29 [==============================] - 0s 6ms/step - loss: 9.4864e-07 - categorical_accuracy: 1.0000 - val_loss: 2.3125 - val_categorical_accuracy: 0.8200\n",
      "Epoch 205/250\n",
      "29/29 [==============================] - 0s 6ms/step - loss: 9.2956e-07 - categorical_accuracy: 1.0000 - val_loss: 2.3138 - val_categorical_accuracy: 0.8200\n",
      "Epoch 206/250\n",
      "29/29 [==============================] - 0s 6ms/step - loss: 9.1314e-07 - categorical_accuracy: 1.0000 - val_loss: 2.3167 - val_categorical_accuracy: 0.8200\n",
      "Epoch 207/250\n",
      "29/29 [==============================] - 0s 6ms/step - loss: 8.9830e-07 - categorical_accuracy: 1.0000 - val_loss: 2.3184 - val_categorical_accuracy: 0.8200\n",
      "Epoch 208/250\n",
      "29/29 [==============================] - 0s 7ms/step - loss: 8.8162e-07 - categorical_accuracy: 1.0000 - val_loss: 2.3204 - val_categorical_accuracy: 0.8200\n",
      "Epoch 209/250\n",
      "29/29 [==============================] - 0s 6ms/step - loss: 8.6493e-07 - categorical_accuracy: 1.0000 - val_loss: 2.3253 - val_categorical_accuracy: 0.8200\n",
      "Epoch 210/250\n",
      "29/29 [==============================] - 0s 6ms/step - loss: 8.6387e-07 - categorical_accuracy: 1.0000 - val_loss: 2.3276 - val_categorical_accuracy: 0.8200\n",
      "Epoch 211/250\n",
      "29/29 [==============================] - 0s 6ms/step - loss: 8.3989e-07 - categorical_accuracy: 1.0000 - val_loss: 2.3289 - val_categorical_accuracy: 0.8200\n",
      "Epoch 212/250\n",
      "29/29 [==============================] - 0s 6ms/step - loss: 8.2254e-07 - categorical_accuracy: 1.0000 - val_loss: 2.3312 - val_categorical_accuracy: 0.8200\n",
      "Epoch 213/250\n",
      "29/29 [==============================] - 0s 6ms/step - loss: 8.0625e-07 - categorical_accuracy: 1.0000 - val_loss: 2.3321 - val_categorical_accuracy: 0.8300\n",
      "Epoch 214/250\n",
      "29/29 [==============================] - 0s 6ms/step - loss: 7.9194e-07 - categorical_accuracy: 1.0000 - val_loss: 2.3350 - val_categorical_accuracy: 0.8300\n",
      "Epoch 215/250\n",
      "29/29 [==============================] - 0s 6ms/step - loss: 7.7817e-07 - categorical_accuracy: 1.0000 - val_loss: 2.3372 - val_categorical_accuracy: 0.8300\n",
      "Epoch 216/250\n",
      "29/29 [==============================] - 0s 6ms/step - loss: 7.6757e-07 - categorical_accuracy: 1.0000 - val_loss: 2.3414 - val_categorical_accuracy: 0.8300\n",
      "Epoch 217/250\n",
      "29/29 [==============================] - 0s 6ms/step - loss: 7.4969e-07 - categorical_accuracy: 1.0000 - val_loss: 2.3410 - val_categorical_accuracy: 0.8300\n",
      "Epoch 218/250\n",
      "29/29 [==============================] - 0s 6ms/step - loss: 7.3711e-07 - categorical_accuracy: 1.0000 - val_loss: 2.3445 - val_categorical_accuracy: 0.8300\n",
      "Epoch 219/250\n",
      "29/29 [==============================] - 0s 7ms/step - loss: 7.2426e-07 - categorical_accuracy: 1.0000 - val_loss: 2.3474 - val_categorical_accuracy: 0.8300\n",
      "Epoch 220/250\n",
      "29/29 [==============================] - 0s 6ms/step - loss: 7.1062e-07 - categorical_accuracy: 1.0000 - val_loss: 2.3473 - val_categorical_accuracy: 0.8300\n",
      "Epoch 221/250\n",
      "29/29 [==============================] - 0s 6ms/step - loss: 6.9698e-07 - categorical_accuracy: 1.0000 - val_loss: 2.3501 - val_categorical_accuracy: 0.8300\n",
      "Epoch 222/250\n",
      "29/29 [==============================] - 0s 6ms/step - loss: 6.8691e-07 - categorical_accuracy: 1.0000 - val_loss: 2.3509 - val_categorical_accuracy: 0.8300\n",
      "Epoch 223/250\n",
      "29/29 [==============================] - 0s 7ms/step - loss: 6.7300e-07 - categorical_accuracy: 1.0000 - val_loss: 2.3538 - val_categorical_accuracy: 0.8300\n",
      "Epoch 224/250\n",
      "29/29 [==============================] - 0s 6ms/step - loss: 6.6201e-07 - categorical_accuracy: 1.0000 - val_loss: 2.3546 - val_categorical_accuracy: 0.8300\n",
      "Epoch 225/250\n",
      "29/29 [==============================] - 0s 7ms/step - loss: 6.5459e-07 - categorical_accuracy: 1.0000 - val_loss: 2.3556 - val_categorical_accuracy: 0.8300\n",
      "Epoch 226/250\n",
      "29/29 [==============================] - 0s 7ms/step - loss: 6.4214e-07 - categorical_accuracy: 1.0000 - val_loss: 2.3591 - val_categorical_accuracy: 0.8300\n",
      "Epoch 227/250\n",
      "29/29 [==============================] - 0s 7ms/step - loss: 6.3141e-07 - categorical_accuracy: 1.0000 - val_loss: 2.3615 - val_categorical_accuracy: 0.8300\n",
      "Epoch 228/250\n",
      "29/29 [==============================] - 0s 9ms/step - loss: 6.2055e-07 - categorical_accuracy: 1.0000 - val_loss: 2.3611 - val_categorical_accuracy: 0.8300\n",
      "Epoch 229/250\n",
      "29/29 [==============================] - 0s 6ms/step - loss: 6.0757e-07 - categorical_accuracy: 1.0000 - val_loss: 2.3629 - val_categorical_accuracy: 0.8300\n",
      "Epoch 230/250\n",
      "29/29 [==============================] - 0s 7ms/step - loss: 5.9909e-07 - categorical_accuracy: 1.0000 - val_loss: 2.3648 - val_categorical_accuracy: 0.8300\n",
      "Epoch 231/250\n",
      "29/29 [==============================] - 0s 7ms/step - loss: 6.0015e-07 - categorical_accuracy: 1.0000 - val_loss: 2.3688 - val_categorical_accuracy: 0.8300\n",
      "Epoch 232/250\n",
      "29/29 [==============================] - 0s 7ms/step - loss: 5.7777e-07 - categorical_accuracy: 1.0000 - val_loss: 2.3697 - val_categorical_accuracy: 0.8300\n",
      "Epoch 233/250\n",
      "29/29 [==============================] - 0s 7ms/step - loss: 5.6452e-07 - categorical_accuracy: 1.0000 - val_loss: 2.3720 - val_categorical_accuracy: 0.8300\n",
      "Epoch 234/250\n",
      "29/29 [==============================] - 0s 6ms/step - loss: 5.5777e-07 - categorical_accuracy: 1.0000 - val_loss: 2.3732 - val_categorical_accuracy: 0.8300\n",
      "Epoch 235/250\n",
      "29/29 [==============================] - 0s 6ms/step - loss: 5.4677e-07 - categorical_accuracy: 1.0000 - val_loss: 2.3770 - val_categorical_accuracy: 0.8300\n",
      "Epoch 236/250\n",
      "29/29 [==============================] - 0s 6ms/step - loss: 5.3671e-07 - categorical_accuracy: 1.0000 - val_loss: 2.3810 - val_categorical_accuracy: 0.8300\n",
      "Epoch 237/250\n",
      "29/29 [==============================] - 0s 6ms/step - loss: 5.2902e-07 - categorical_accuracy: 1.0000 - val_loss: 2.3838 - val_categorical_accuracy: 0.8300\n",
      "Epoch 238/250\n",
      "29/29 [==============================] - 0s 6ms/step - loss: 5.1578e-07 - categorical_accuracy: 1.0000 - val_loss: 2.3855 - val_categorical_accuracy: 0.8300\n",
      "Epoch 239/250\n",
      "29/29 [==============================] - 0s 7ms/step - loss: 5.0743e-07 - categorical_accuracy: 1.0000 - val_loss: 2.3885 - val_categorical_accuracy: 0.8300\n",
      "Epoch 240/250\n",
      "29/29 [==============================] - 0s 6ms/step - loss: 4.9869e-07 - categorical_accuracy: 1.0000 - val_loss: 2.3894 - val_categorical_accuracy: 0.8300\n",
      "Epoch 241/250\n",
      "29/29 [==============================] - 0s 6ms/step - loss: 4.9074e-07 - categorical_accuracy: 1.0000 - val_loss: 2.3909 - val_categorical_accuracy: 0.8300\n",
      "Epoch 242/250\n",
      "29/29 [==============================] - 0s 6ms/step - loss: 4.8452e-07 - categorical_accuracy: 1.0000 - val_loss: 2.3898 - val_categorical_accuracy: 0.8300\n",
      "Epoch 243/250\n",
      "29/29 [==============================] - 0s 6ms/step - loss: 4.7405e-07 - categorical_accuracy: 1.0000 - val_loss: 2.3917 - val_categorical_accuracy: 0.8300\n",
      "Epoch 244/250\n",
      "29/29 [==============================] - 0s 6ms/step - loss: 4.6637e-07 - categorical_accuracy: 1.0000 - val_loss: 2.3952 - val_categorical_accuracy: 0.8300\n",
      "Epoch 245/250\n",
      "29/29 [==============================] - 0s 6ms/step - loss: 4.6054e-07 - categorical_accuracy: 1.0000 - val_loss: 2.3975 - val_categorical_accuracy: 0.8300\n",
      "Epoch 246/250\n",
      "29/29 [==============================] - 0s 6ms/step - loss: 4.5101e-07 - categorical_accuracy: 1.0000 - val_loss: 2.3997 - val_categorical_accuracy: 0.8300\n",
      "Epoch 247/250\n",
      "29/29 [==============================] - 0s 6ms/step - loss: 4.4584e-07 - categorical_accuracy: 1.0000 - val_loss: 2.4073 - val_categorical_accuracy: 0.8300\n",
      "Epoch 248/250\n",
      "29/29 [==============================] - 0s 6ms/step - loss: 4.3617e-07 - categorical_accuracy: 1.0000 - val_loss: 2.4086 - val_categorical_accuracy: 0.8300\n",
      "Epoch 249/250\n",
      "29/29 [==============================] - 0s 6ms/step - loss: 4.2690e-07 - categorical_accuracy: 1.0000 - val_loss: 2.4099 - val_categorical_accuracy: 0.8300\n",
      "Epoch 250/250\n",
      "29/29 [==============================] - 0s 7ms/step - loss: 4.1789e-07 - categorical_accuracy: 1.0000 - val_loss: 2.4120 - val_categorical_accuracy: 0.8300\n"
     ]
    }
   ],
   "source": [
    "hist = model.fit(X_train, y_train, validation_split = 0.1, epochs=250)"
   ]
  },
  {
   "cell_type": "code",
   "execution_count": 52,
   "metadata": {},
   "outputs": [
    {
     "name": "stdout",
     "output_type": "stream",
     "text": [
      "32/32 [==============================] - 0s 7ms/step - loss: 2.6369 - categorical_accuracy: 0.7700\n"
     ]
    },
    {
     "data": {
      "text/plain": [
       "[2.6368584632873535, 0.7699999809265137]"
      ]
     },
     "execution_count": 52,
     "metadata": {},
     "output_type": "execute_result"
    }
   ],
   "source": [
    "score = model.evaluate(X_test,y_test)\n",
    "score\n"
   ]
  },
  {
   "cell_type": "code",
   "execution_count": 53,
   "metadata": {},
   "outputs": [
    {
     "data": {
      "text/plain": [
       "<matplotlib.legend.Legend at 0x1df07c0d120>"
      ]
     },
     "execution_count": 53,
     "metadata": {},
     "output_type": "execute_result"
    },
    {
     "data": {
      "image/png": "[encoded data removed]",
      "text/plain": [
       "<Figure size 640x480 with 1 Axes>"
      ]
     },
     "metadata": {},
     "output_type": "display_data"
    }
   ],
   "source": [
    "import matplotlib.pyplot as plt\n",
    "%matplotlib inline\n",
    "plt.figure\n",
    "plt.plot(hist.history['loss'],label='train')\n",
    "plt.plot(hist.history['val_loss'],'r',label='validation')\n",
    "plt.legend()"
   ]
  },
  {
   "cell_type": "code",
   "execution_count": 54,
   "metadata": {},
   "outputs": [
    {
     "data": {
      "text/plain": [
       "<matplotlib.legend.Legend at 0x1df07c37370>"
      ]
     },
     "execution_count": 54,
     "metadata": {},
     "output_type": "execute_result"
    },
    {
     "data": {
      "image/png": "[encoded data removed]",
      "text/plain": [
       "<Figure size 640x480 with 1 Axes>"
      ]
     },
     "metadata": {},
     "output_type": "display_data"
    }
   ],
   "source": [
    "# Evolucion en accuracy\n",
    "\n",
    "import matplotlib.pyplot as plt\n",
    "plt.figure\n",
    "plt.plot(hist.history['categorical_accuracy'],label='train')\n",
    "plt.plot(hist.history['val_categorical_accuracy'],'r',label='validation')\n",
    "plt.legend()\n"
   ]
  },
  {
   "cell_type": "code",
   "execution_count": 55,
   "metadata": {},
   "outputs": [
    {
     "name": "stdout",
     "output_type": "stream",
     "text": [
      "32/32 [==============================] - 0s 4ms/step\n"
     ]
    }
   ],
   "source": [
    "# Predecimos en test\n",
    "preds_test = model.predict(X_test)"
   ]
  },
  {
   "cell_type": "code",
   "execution_count": 56,
   "metadata": {},
   "outputs": [
    {
     "name": "stdout",
     "output_type": "stream",
     "text": [
      "['p(y=0|x) = 0.0000', 'p(y=1|x) = 0.0000', 'p(y=2|x) = 1.0000', 'p(y=3|x) = 0.0000', 'p(y=4|x) = 0.0000', 'p(y=5|x) = 0.0000', 'p(y=6|x) = 0.0000', 'p(y=7|x) = 0.0000', 'p(y=8|x) = 0.0000', 'p(y=9|x) = 0.0000']\n"
     ]
    },
    {
     "data": {
      "image/png": "[encoded data removed]",
      "text/plain": [
       "<Figure size 640x480 with 1 Axes>"
      ]
     },
     "metadata": {},
     "output_type": "display_data"
    }
   ],
   "source": [
    "# Elegimos una imagen de test\n",
    "idx_mostrar = 1\n",
    "# Mostramos la imagen\n",
    "plt.imshow(np.squeeze(X_test[idx_mostrar,:,:,]),cmap=\"gray\")\n",
    "# Mostramos las probabilidades que da el modelo a cada clase\n",
    "print([\"p(y=%d|x) = %.4f\"%(i,p) for i,p in enumerate(preds_test[idx_mostrar])])"
   ]
  },
  {
   "cell_type": "code",
   "execution_count": 57,
   "metadata": {},
   "outputs": [
    {
     "data": {
      "text/plain": [
       "array([0., 0., 1., 0., 0., 0., 0., 0., 0., 0.], dtype=float32)"
      ]
     },
     "execution_count": 57,
     "metadata": {},
     "output_type": "execute_result"
    }
   ],
   "source": [
    "y_train[7]"
   ]
  },
  {
   "cell_type": "code",
   "execution_count": null,
   "metadata": {},
   "outputs": [],
   "source": []
  }
 ],
 "metadata": {
  "kernelspec": {
   "display_name": "Python 3.10.8 64-bit",
   "language": "python",
   "name": "python3"
  },
  "language_info": {
   "codemirror_mode": {
    "name": "ipython",
    "version": 3
   },
   "file_extension": ".py",
   "mimetype": "text/x-python",
   "name": "python",
   "nbconvert_exporter": "python",
   "pygments_lexer": "ipython3",
   "version": "3.10.8"
  },
  "orig_nbformat": 4,
  "vscode": {
   "interpreter": {
    "hash": "c63d8c7d738c2960218a10995aedf0a7f67a49a231e71037adf0440953cdb45b"
   }
  }
 },
 "nbformat": 4,
 "nbformat_minor": 2
}
